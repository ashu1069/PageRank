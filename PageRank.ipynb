{
 "cells": [
  {
   "cell_type": "code",
   "execution_count": 26,
   "id": "c6d8d707",
   "metadata": {},
   "outputs": [],
   "source": [
    "import numpy as np\n",
    "import networkx as nx\n",
    "import matplotlib.pyplot as plt"
   ]
  },
  {
   "cell_type": "markdown",
   "id": "e668af70",
   "metadata": {},
   "source": [
    "## PageRank Algorithm"
   ]
  },
  {
   "cell_type": "code",
   "execution_count": 27,
   "id": "3d7354df",
   "metadata": {},
   "outputs": [],
   "source": [
    "def PageRank(transition_matrix, d, max_iterations, conv_thres):\n",
    "    '''\n",
    "    Arguments:\n",
    "    transition_matrix: a matrix or numpy array representing the probabilities of going from one page to another\n",
    "    d: damping factor\n",
    "    max_iterations: number of iterations\n",
    "    conv_thres: convergence threshold\n",
    "    \n",
    "    Return: ranks of each webpage, as columns of the transition matrix\n",
    "    '''\n",
    "    #total number of web pages\n",
    "    N = transition_matrix.shape[0]\n",
    "    \n",
    "    #Intializing the transition matrix with equal probabilities\n",
    "    PR = np.ones(N)/N\n",
    "    \n",
    "    for _ in range(max_iterations):\n",
    "        PR_new = (1-d)/N + d*np.matmul(transition_matrix,PR)\n",
    "        \n",
    "        #normalizing the rank scores\n",
    "        PR_norm = np.linalg.norm(PR_new - PR, 1)\n",
    "        \n",
    "        #covergence constraint\n",
    "        if PR_norm <= conv_thres:\n",
    "            return PR_new\n",
    "        \n",
    "        PR = PR_new\n",
    "    \n",
    "    return PR  "
   ]
  },
  {
   "cell_type": "code",
   "execution_count": 28,
   "id": "72b9324f",
   "metadata": {},
   "outputs": [
    {
     "name": "stdout",
     "output_type": "stream",
     "text": [
      "PageRanks:[0.13229083 0.08908247 0.09760554]\n"
     ]
    }
   ],
   "source": [
    "transition_matrix = np.array([\n",
    "        [0.1,0.5,0.4],\n",
    "        [0.2,0,0.2],\n",
    "        [0,0.3,0.3]\n",
    "    ])\n",
    "    \n",
    "d = 0.85\n",
    "max_iterations = 1000\n",
    "conv_thres = 1e-6\n",
    "    \n",
    "PR = PageRank(transition_matrix, d, max_iterations, conv_thres)\n",
    "print(f'PageRanks:{PR}')"
   ]
  },
  {
   "cell_type": "markdown",
   "id": "b67ca550",
   "metadata": {},
   "source": [
    "### Visualizing the Markov Chain for web pages"
   ]
  },
  {
   "cell_type": "code",
   "execution_count": 29,
   "id": "a8cf604e",
   "metadata": {},
   "outputs": [],
   "source": [
    "def markov_chain(transition_matrix):\n",
    "    # Create a directed graph.\n",
    "    G = nx.DiGraph()\n",
    "\n",
    "    # Nodes represent pages. Assume node labels are 0, 1, 2, ... for simplicity.\n",
    "    num_nodes = transition_matrix.shape[0]\n",
    "    G.add_nodes_from(range(num_nodes))\n",
    "\n",
    "    # Iterate through the transition matrix to create edges.\n",
    "    for i in range(num_nodes):\n",
    "        for j in range(num_nodes):\n",
    "            if transition_matrix[i, j] > 0:  # Add edge if there's a non-zero transition probability.\n",
    "                G.add_edge(i, j, weight=transition_matrix[i, j])\n",
    "\n",
    "    # Visualize the graph.\n",
    "    pos = nx.spring_layout(G)\n",
    "    nx.draw_networkx_nodes(G, pos)\n",
    "    nx.draw_networkx_labels(G, pos)\n",
    "    nx.draw_networkx_edge_labels(G, pos, edge_labels={(u, v): f\"{d['weight']:.2f}\" for u, v, d in G.edges(data=True)})\n",
    "    nx.draw_networkx_edges(G, pos)\n",
    "\n",
    "    plt.title(\"Markov Chain from Transition Matrix\")\n",
    "    plt.axis(\"off\")\n",
    "    plt.show()"
   ]
  },
  {
   "cell_type": "code",
   "execution_count": 30,
   "id": "d64bc0e2",
   "metadata": {},
   "outputs": [
    {
     "data": {
      "image/png": "[encoded data removed]",
      "text/plain": [
       "<Figure size 432x288 with 1 Axes>"
      ]
     },
     "metadata": {},
     "output_type": "display_data"
    }
   ],
   "source": [
    "markov_chain(transition_matrix)"
   ]
  }
 ],
 "metadata": {
  "kernelspec": {
   "display_name": "Python 3 (ipykernel)",
   "language": "python",
   "name": "python3"
  },
  "language_info": {
   "codemirror_mode": {
    "name": "ipython",
    "version": 3
   },
   "file_extension": ".py",
   "mimetype": "text/x-python",
   "name": "python",
   "nbconvert_exporter": "python",
   "pygments_lexer": "ipython3",
   "version": "3.9.7"
  }
 },
 "nbformat": 4,
 "nbformat_minor": 5
}
